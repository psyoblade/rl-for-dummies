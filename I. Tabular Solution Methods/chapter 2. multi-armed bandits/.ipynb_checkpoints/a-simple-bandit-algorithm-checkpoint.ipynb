{
 "cells": [
  {
   "cell_type": "code",
   "execution_count": 229,
   "metadata": {},
   "outputs": [],
   "source": [
    "#!/usr/bin/env python\n",
    "# -*- coding:utf-8 -*-\n",
    "DEBUG=False\n",
    "\n",
    "def debug(log):\n",
    "    if DEBUG:\n",
    "        print(log)\n",
    "        \n",
    "def is_random_match(vector):\n",
    "    if np.amax(vector) == 0:\n",
    "        return True\n",
    "    if rand.randint(0,9) == 0:\n",
    "        return True\n",
    "    return False\n",
    "\n",
    "# return nonzero max value \n",
    "def argmax(vector):\n",
    "    import numpy as np\n",
    "    m = np.amax(vector)\n",
    "    return np.nonzero(vector == m)[0]\n",
    "\n",
    "def a_argmax(vector):\n",
    "    if is_random_match(vector):\n",
    "        debug(\"random method\")\n",
    "        return rand.randint(0,9)\n",
    "    else:\n",
    "        debug(\"greedy method\")\n",
    "        x = argmax(vector)[0]\n",
    "        return list[x]\n",
    "\n",
    "# xxx = [ 0.2, -0.9, 1.5, 0.3, 1.1, -1.5, -0.2, -1.0, 0.8, -0.6 ]\n",
    "# print(x_argmax(xxx))"
   ]
  },
  {
   "cell_type": "code",
   "execution_count": 225,
   "metadata": {},
   "outputs": [],
   "source": [
    "mu = 0\n",
    "sigma = 1\n",
    "d = np.random.normal(mu, sigma, 1)\n",
    "# print(d)"
   ]
  },
  {
   "cell_type": "code",
   "execution_count": 259,
   "metadata": {},
   "outputs": [
    {
     "name": "stdout",
     "output_type": "stream",
     "text": [
      "[ 0.21348282 -0.46049666  1.90652816  0.80756353  0.80138329 -1.56140053\n",
      " -0.55320143 -1.27443575  0.7685324  -1.25549341]\n",
      "[ 921.   12.    6.    4.   12.    7.    9.    8.   11.   10.]\n",
      "1.90652816012\n"
     ]
    }
   ],
   "source": [
    "# initialize 1 to k\n",
    "num_of_actions = 10\n",
    "Q = np.zeros(num_of_actions) # action value\n",
    "N = np.zeros(num_of_actions) # step size\n",
    "\n",
    "def bandit(action):\n",
    "    q_means = [ 0.2, -0.9, 1.5, 0.3, 1.1, -1.5, -0.2, -1.0, 0.8, -0.6 ]\n",
    "    mu = q_means[action]\n",
    "    sigma = 1\n",
    "    return np.random.normal(mu, sigma, 1)\n",
    "\n",
    "# while True:\n",
    "for x in range(1000):\n",
    "    A = a_argmax(Q)\n",
    "    R = bandit(A)\n",
    "    N[A] = N[A] + 1\n",
    "    Q[A] = Q[A] + 1/N[A] * (R - Q[A])\n",
    "print(Q)\n",
    "print(N)\n",
    "print(np.max(Q))"
   ]
  }
 ],
 "metadata": {
  "kernelspec": {
   "display_name": "Python 3",
   "language": "python",
   "name": "python3"
  },
  "language_info": {
   "codemirror_mode": {
    "name": "ipython",
    "version": 3
   },
   "file_extension": ".py",
   "mimetype": "text/x-python",
   "name": "python",
   "nbconvert_exporter": "python",
   "pygments_lexer": "ipython3",
   "version": "3.6.1"
  }
 },
 "nbformat": 4,
 "nbformat_minor": 2
}
