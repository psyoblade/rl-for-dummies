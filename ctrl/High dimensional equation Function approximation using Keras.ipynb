{
 "cells": [
  {
   "cell_type": "markdown",
   "metadata": {},
   "source": [
    "### Install tensorflow & keras"
   ]
  },
  {
   "cell_type": "code",
   "execution_count": 2,
   "metadata": {
    "scrolled": true
   },
   "outputs": [
    {
     "name": "stdout",
     "output_type": "stream",
     "text": [
      "Collecting tensorflow\n",
      "  Using cached https://files.pythonhosted.org/packages/81/07/be624c7e0a63b080a76b7f6faf417eecdc5f6480f6a740a8bcf8991bce0b/tensorflow-1.12.0-cp36-cp36m-macosx_10_11_x86_64.whl\n",
      "Collecting astor>=0.6.0 (from tensorflow)\n",
      "  Using cached https://files.pythonhosted.org/packages/35/6b/11530768cac581a12952a2aad00e1526b89d242d0b9f59534ef6e6a1752f/astor-0.7.1-py2.py3-none-any.whl\n",
      "Collecting tensorboard<1.13.0,>=1.12.0 (from tensorflow)\n",
      "\u001b[?25l  Downloading https://files.pythonhosted.org/packages/07/53/8d32ce9471c18f8d99028b7cef2e5b39ea8765bd7ef250ca05b490880971/tensorboard-1.12.2-py3-none-any.whl (3.0MB)\n",
      "\u001b[K    100% |████████████████████████████████| 3.1MB 3.2MB/s ta 0:00:01\n",
      "\u001b[?25hCollecting wheel>=0.26 (from tensorflow)\n",
      "  Downloading https://files.pythonhosted.org/packages/ff/47/1dfa4795e24fd6f93d5d58602dd716c3f101cfd5a77cd9acbe519b44a0a9/wheel-0.32.3-py2.py3-none-any.whl\n",
      "Collecting gast>=0.2.0 (from tensorflow)\n",
      "  Downloading https://files.pythonhosted.org/packages/4e/35/11749bf99b2d4e3cceb4d55ca22590b0d7c2c62b9de38ac4a4a7f4687421/gast-0.2.2.tar.gz\n",
      "Requirement already satisfied, skipping upgrade: numpy>=1.13.3 in /Library/Frameworks/Python.framework/Versions/3.6/lib/python3.6/site-packages (from tensorflow) (1.14.5)\n",
      "Collecting keras-preprocessing>=1.0.5 (from tensorflow)\n",
      "  Using cached https://files.pythonhosted.org/packages/fc/94/74e0fa783d3fc07e41715973435dd051ca89c550881b3454233c39c73e69/Keras_Preprocessing-1.0.5-py2.py3-none-any.whl\n",
      "Collecting absl-py>=0.1.6 (from tensorflow)\n",
      "Collecting termcolor>=1.1.0 (from tensorflow)\n",
      "Requirement already satisfied, skipping upgrade: six>=1.10.0 in /Library/Frameworks/Python.framework/Versions/3.6/lib/python3.6/site-packages (from tensorflow) (1.11.0)\n",
      "Collecting grpcio>=1.8.6 (from tensorflow)\n",
      "\u001b[?25l  Downloading https://files.pythonhosted.org/packages/14/26/e26ed357d2b7ddb30043b6f17458c1fb8d3a2e7a243fb03a022beef9084a/grpcio-1.17.1-cp36-cp36m-macosx_10_7_intel.whl (2.1MB)\n",
      "\u001b[K    100% |████████████████████████████████| 2.1MB 3.9MB/s ta 0:00:011\n",
      "\u001b[?25hCollecting keras-applications>=1.0.6 (from tensorflow)\n",
      "  Using cached https://files.pythonhosted.org/packages/3f/c4/2ff40221029f7098d58f8d7fb99b97e8100f3293f9856f0fb5834bef100b/Keras_Applications-1.0.6-py2.py3-none-any.whl\n",
      "Collecting protobuf>=3.6.1 (from tensorflow)\n",
      "  Using cached https://files.pythonhosted.org/packages/c7/27/133f225035b9539f2dcfebcdf9a69ff0152f56e0120160ec5c972ea7deb9/protobuf-3.6.1-cp36-cp36m-macosx_10_6_intel.macosx_10_9_intel.macosx_10_9_x86_64.macosx_10_10_intel.macosx_10_10_x86_64.whl\n",
      "Collecting werkzeug>=0.11.10 (from tensorboard<1.13.0,>=1.12.0->tensorflow)\n",
      "  Using cached https://files.pythonhosted.org/packages/20/c4/12e3e56473e52375aa29c4764e70d1b8f3efa6682bef8d0aae04fe335243/Werkzeug-0.14.1-py2.py3-none-any.whl\n",
      "Collecting markdown>=2.6.8 (from tensorboard<1.13.0,>=1.12.0->tensorflow)\n",
      "  Using cached https://files.pythonhosted.org/packages/7a/6b/5600647404ba15545ec37d2f7f58844d690baf2f81f3a60b862e48f29287/Markdown-3.0.1-py2.py3-none-any.whl\n",
      "Collecting h5py (from keras-applications>=1.0.6->tensorflow)\n",
      "\u001b[?25l  Downloading https://files.pythonhosted.org/packages/03/21/1cdf7fa7868528b35c1a08a770eb9334279574a8b5f1d7a2966dcec14e42/h5py-2.9.0-cp36-cp36m-macosx_10_6_intel.macosx_10_9_intel.macosx_10_9_x86_64.macosx_10_10_intel.macosx_10_10_x86_64.whl (6.3MB)\n",
      "\u001b[K    100% |████████████████████████████████| 6.3MB 3.7MB/s ta 0:00:011    82% |██████████████████████████▍     | 5.2MB 6.3MB/s eta 0:00:01\n",
      "\u001b[?25hRequirement already satisfied, skipping upgrade: setuptools in /Library/Frameworks/Python.framework/Versions/3.6/lib/python3.6/site-packages (from protobuf>=3.6.1->tensorflow) (28.8.0)\n",
      "Installing collected packages: astor, werkzeug, grpcio, protobuf, wheel, markdown, tensorboard, gast, keras-preprocessing, absl-py, termcolor, h5py, keras-applications, tensorflow\n",
      "  Running setup.py install for gast ... \u001b[?25ldone\n",
      "\u001b[?25hSuccessfully installed absl-py-0.6.1 astor-0.7.1 gast-0.2.2 grpcio-1.17.1 h5py-2.9.0 keras-applications-1.0.6 keras-preprocessing-1.0.5 markdown-3.0.1 protobuf-3.6.1 tensorboard-1.12.2 tensorflow-1.12.0 termcolor-1.1.0 werkzeug-0.14.1 wheel-0.32.3\n",
      "\u001b[33mYou are using pip version 18.0, however version 18.1 is available.\n",
      "You should consider upgrading via the 'pip install --upgrade pip' command.\u001b[0m\n"
     ]
    }
   ],
   "source": [
    "!pip install --upgrade tensorflow\n",
    "!pip install keras\n",
    "\n",
    "import sys\n",
    "from keras.layers import Dense\n",
    "from keras.models import Sequential\n",
    "print(sys.version)\n",
    "print(sys.version_info)"
   ]
  },
  {
   "cell_type": "code",
   "execution_count": 314,
   "metadata": {},
   "outputs": [
    {
     "data": {
      "image/png": "[encoded data removed]",
      "text/plain": [
       "<Figure size 432x288 with 1 Axes>"
      ]
     },
     "metadata": {
      "needs_background": "light"
     },
     "output_type": "display_data"
    }
   ],
   "source": [
    "import matplotlib.pyplot as plt\n",
    "import numpy as np\n",
    "\n",
    "x = np.random.rand(100, 1) # 0 ~ 1 사이의 난수를 100개 생성\n",
    "x = x * 4 - 2 # 값의 범위를 -2 ~ 2 사이로 변경\n",
    "y = 3 * x**2 - 2 # y = a*x**2 + b*x+ c\n",
    "y += np.random.randn(100, 1) # 평균이 0이고 표준편차가 1인 정규분포 \n",
    "\n",
    "from sklearn import linear_model\n",
    "model = linear_model.LinearRegression()\n",
    "model.fit(x**2, y)\n",
    "\n",
    "plt.scatter(x, y, marker='+')\n",
    "plt.scatter(x, model.predict(x**2), marker='o')\n",
    "plt.show()"
   ]
  },
  {
   "cell_type": "markdown",
   "metadata": {},
   "source": [
    "### Function approximation using keras\n",
    "> 4원 4차 방정식을 DNN을 통해 근사하는 방법"
   ]
  },
  {
   "cell_type": "code",
   "execution_count": 315,
   "metadata": {
    "scrolled": true
   },
   "outputs": [
    {
     "name": "stdout",
     "output_type": "stream",
     "text": [
      "(200, 1) (200, 1)\n"
     ]
    },
    {
     "data": {
      "image/png": "[encoded data removed]",
      "text/plain": [
       "<Figure size 432x288 with 1 Axes>"
      ]
     },
     "metadata": {
      "needs_background": "light"
     },
     "output_type": "display_data"
    },
    {
     "name": "stdout",
     "output_type": "stream",
     "text": [
      "_________________________________________________________________\n",
      "Layer (type)                 Output Shape              Param #   \n",
      "=================================================================\n",
      "dense_351 (Dense)            (None, 10)                20        \n",
      "_________________________________________________________________\n",
      "dense_352 (Dense)            (None, 10)                110       \n",
      "_________________________________________________________________\n",
      "dense_353 (Dense)            (None, 10)                110       \n",
      "_________________________________________________________________\n",
      "dense_354 (Dense)            (None, 10)                110       \n",
      "_________________________________________________________________\n",
      "dense_355 (Dense)            (None, 1)                 11        \n",
      "=================================================================\n",
      "Total params: 361\n",
      "Trainable params: 361\n",
      "Non-trainable params: 0\n",
      "_________________________________________________________________\n"
     ]
    }
   ],
   "source": [
    "from keras.losses import categorical_crossentropy\n",
    "from keras.optimizers import SGD\n",
    "dim = 200\n",
    "feat = 1\n",
    "x = np.random.rand(dim, feat)\n",
    "x = x * 10 - 5 # -5 ~ 5\n",
    "y = 2 * x**4 + 8 * x**3 - 20 * x**2 - 3 * x - 9\n",
    "y += np.random.randn(dim, 1) * 2.0 # 평균이 0이고 표준편차가 1인 정규분포 200개\n",
    "x_train = x\n",
    "y_train = y\n",
    "print(x.shape, y.shape)\n",
    "plt.scatter(x_train, y_train, marker='+')\n",
    "plt.show()\n",
    "\n",
    "from keras.layers import Dense\n",
    "from keras.models import Sequential\n",
    "\n",
    "model = Sequential()\n",
    "model.add(Dense(10, input_dim=1, activation='relu'))\n",
    "model.add(Dense(10, activation='relu'))\n",
    "model.add(Dense(10, activation='relu'))\n",
    "model.add(Dense(10, activation='relu'))\n",
    "model.add(Dense(1, activation='linear'))\n",
    "model.compile(loss='mse', optimizer='adam')\n",
    "model.summary()\n",
    "\n",
    "history = model.fit(x_train, y_train, batch_size=1, epochs=2000, verbose=0)"
   ]
  },
  {
   "cell_type": "code",
   "execution_count": 318,
   "metadata": {},
   "outputs": [
    {
     "name": "stdout",
     "output_type": "stream",
     "text": [
      "dict_keys(['loss'])\n"
     ]
    },
    {
     "data": {
      "image/png": "[encoded data removed]",
      "text/plain": [
       "<Figure size 432x288 with 1 Axes>"
      ]
     },
     "metadata": {
      "needs_background": "light"
     },
     "output_type": "display_data"
    }
   ],
   "source": [
    "print(history.history.keys())\n",
    "# \"Loss\"\n",
    "plt.plot(history.history['loss'])\n",
    "# plt.plot(history.history['val_loss'])\n",
    "plt.title('model loss')\n",
    "plt.ylabel('loss')\n",
    "plt.xlabel('epoch')\n",
    "plt.legend(['train', 'validation'], loc='upper left')\n",
    "plt.show()"
   ]
  },
  {
   "cell_type": "code",
   "execution_count": 319,
   "metadata": {},
   "outputs": [
    {
     "data": {
      "image/png": "[encoded data removed]",
      "text/plain": [
       "<Figure size 432x288 with 1 Axes>"
      ]
     },
     "metadata": {
      "needs_background": "light"
     },
     "output_type": "display_data"
    }
   ],
   "source": [
    "import matplotlib.pyplot as plt\n",
    "\n",
    "x_dest = model.predict(x_train)\n",
    "plt.scatter(x_train, y_train, marker='+')\n",
    "plt.scatter(x_train, x_dest, marker='o')\n",
    "plt.show()"
   ]
  },
  {
   "cell_type": "code",
   "execution_count": 320,
   "metadata": {},
   "outputs": [
    {
     "name": "stdout",
     "output_type": "stream",
     "text": [
      "[[1674.8434]]\n"
     ]
    }
   ],
   "source": [
    "x_test = [5.0]\n",
    "x_result = model.predict(x_test)\n",
    "print(x_result)"
   ]
  },
  {
   "cell_type": "code",
   "execution_count": 263,
   "metadata": {},
   "outputs": [
    {
     "name": "stdout",
     "output_type": "stream",
     "text": [
      "MinMaxScaler(copy=True, feature_range=(0, 1))\n",
      "MinMaxScaler(copy=True, feature_range=(0, 1))\n",
      "_________________________________________________________________\n",
      "Layer (type)                 Output Shape              Param #   \n",
      "=================================================================\n",
      "dense_243 (Dense)            (None, 12)                72        \n",
      "_________________________________________________________________\n",
      "dense_244 (Dense)            (None, 8)                 104       \n",
      "_________________________________________________________________\n",
      "dense_245 (Dense)            (None, 1)                 9         \n",
      "=================================================================\n",
      "Total params: 185\n",
      "Trainable params: 185\n",
      "Non-trainable params: 0\n",
      "_________________________________________________________________\n",
      "Train on 577 samples, validate on 145 samples\n",
      "Epoch 1/150\n",
      "577/577 [==============================] - 3s 6ms/step - loss: 0.2201 - mean_squared_error: 0.2201 - mean_absolute_error: 0.3578 - val_loss: 0.2123 - val_mean_squared_error: 0.2123 - val_mean_absolute_error: 0.3626\n",
      "Epoch 2/150\n",
      "577/577 [==============================] - 0s 72us/step - loss: 0.1882 - mean_squared_error: 0.1882 - mean_absolute_error: 0.3239 - val_loss: 0.1799 - val_mean_squared_error: 0.1799 - val_mean_absolute_error: 0.3265\n",
      "Epoch 3/150\n",
      "577/577 [==============================] - 0s 76us/step - loss: 0.1583 - mean_squared_error: 0.1583 - mean_absolute_error: 0.2913 - val_loss: 0.1480 - val_mean_squared_error: 0.1480 - val_mean_absolute_error: 0.2918\n",
      "Epoch 4/150\n",
      "577/577 [==============================] - 0s 73us/step - loss: 0.1282 - mean_squared_error: 0.1282 - mean_absolute_error: 0.2614 - val_loss: 0.1179 - val_mean_squared_error: 0.1179 - val_mean_absolute_error: 0.2616\n",
      "Epoch 5/150\n",
      "577/577 [==============================] - 0s 70us/step - loss: 0.1011 - mean_squared_error: 0.1011 - mean_absolute_error: 0.2367 - val_loss: 0.0907 - val_mean_squared_error: 0.0907 - val_mean_absolute_error: 0.2353\n",
      "Epoch 6/150\n",
      "577/577 [==============================] - 0s 73us/step - loss: 0.0774 - mean_squared_error: 0.0774 - mean_absolute_error: 0.2180 - val_loss: 0.0689 - val_mean_squared_error: 0.0689 - val_mean_absolute_error: 0.2133\n",
      "Epoch 7/150\n",
      "577/577 [==============================] - 0s 71us/step - loss: 0.0599 - mean_squared_error: 0.0599 - mean_absolute_error: 0.2037 - val_loss: 0.0534 - val_mean_squared_error: 0.0534 - val_mean_absolute_error: 0.1941\n",
      "Epoch 8/150\n",
      "577/577 [==============================] - 0s 71us/step - loss: 0.0483 - mean_squared_error: 0.0483 - mean_absolute_error: 0.1919 - val_loss: 0.0435 - val_mean_squared_error: 0.0435 - val_mean_absolute_error: 0.1789\n",
      "Epoch 9/150\n",
      "577/577 [==============================] - 0s 73us/step - loss: 0.0409 - mean_squared_error: 0.0409 - mean_absolute_error: 0.1808 - val_loss: 0.0377 - val_mean_squared_error: 0.0377 - val_mean_absolute_error: 0.1669\n",
      "Epoch 10/150\n",
      "577/577 [==============================] - 0s 75us/step - loss: 0.0359 - mean_squared_error: 0.0359 - mean_absolute_error: 0.1692 - val_loss: 0.0339 - val_mean_squared_error: 0.0339 - val_mean_absolute_error: 0.1566\n",
      "Epoch 11/150\n",
      "577/577 [==============================] - 0s 74us/step - loss: 0.0322 - mean_squared_error: 0.0322 - mean_absolute_error: 0.1585 - val_loss: 0.0312 - val_mean_squared_error: 0.0312 - val_mean_absolute_error: 0.1473\n",
      "Epoch 12/150\n",
      "577/577 [==============================] - 0s 74us/step - loss: 0.0291 - mean_squared_error: 0.0291 - mean_absolute_error: 0.1484 - val_loss: 0.0294 - val_mean_squared_error: 0.0294 - val_mean_absolute_error: 0.1402\n",
      "Epoch 13/150\n",
      "577/577 [==============================] - 0s 75us/step - loss: 0.0266 - mean_squared_error: 0.0266 - mean_absolute_error: 0.1394 - val_loss: 0.0281 - val_mean_squared_error: 0.0281 - val_mean_absolute_error: 0.1352\n",
      "Epoch 14/150\n",
      "577/577 [==============================] - 0s 72us/step - loss: 0.0248 - mean_squared_error: 0.0248 - mean_absolute_error: 0.1322 - val_loss: 0.0271 - val_mean_squared_error: 0.0271 - val_mean_absolute_error: 0.1311\n",
      "Epoch 15/150\n",
      "577/577 [==============================] - 0s 72us/step - loss: 0.0234 - mean_squared_error: 0.0234 - mean_absolute_error: 0.1263 - val_loss: 0.0265 - val_mean_squared_error: 0.0265 - val_mean_absolute_error: 0.1286\n",
      "Epoch 16/150\n",
      "577/577 [==============================] - 0s 75us/step - loss: 0.0225 - mean_squared_error: 0.0225 - mean_absolute_error: 0.1223 - val_loss: 0.0261 - val_mean_squared_error: 0.0261 - val_mean_absolute_error: 0.1273\n",
      "Epoch 17/150\n",
      "577/577 [==============================] - 0s 75us/step - loss: 0.0218 - mean_squared_error: 0.0218 - mean_absolute_error: 0.1186 - val_loss: 0.0259 - val_mean_squared_error: 0.0259 - val_mean_absolute_error: 0.1265\n",
      "Epoch 18/150\n",
      "577/577 [==============================] - 0s 74us/step - loss: 0.0213 - mean_squared_error: 0.0213 - mean_absolute_error: 0.1163 - val_loss: 0.0257 - val_mean_squared_error: 0.0257 - val_mean_absolute_error: 0.1258\n",
      "Epoch 19/150\n",
      "577/577 [==============================] - 0s 73us/step - loss: 0.0210 - mean_squared_error: 0.0210 - mean_absolute_error: 0.1141 - val_loss: 0.0255 - val_mean_squared_error: 0.0255 - val_mean_absolute_error: 0.1251\n",
      "Epoch 20/150\n",
      "577/577 [==============================] - 0s 73us/step - loss: 0.0207 - mean_squared_error: 0.0207 - mean_absolute_error: 0.1134 - val_loss: 0.0250 - val_mean_squared_error: 0.0250 - val_mean_absolute_error: 0.1241\n",
      "Epoch 21/150\n",
      "577/577 [==============================] - 0s 69us/step - loss: 0.0204 - mean_squared_error: 0.0204 - mean_absolute_error: 0.1127 - val_loss: 0.0248 - val_mean_squared_error: 0.0248 - val_mean_absolute_error: 0.1233\n",
      "Epoch 22/150\n",
      "577/577 [==============================] - 0s 73us/step - loss: 0.0202 - mean_squared_error: 0.0202 - mean_absolute_error: 0.1103 - val_loss: 0.0250 - val_mean_squared_error: 0.0250 - val_mean_absolute_error: 0.1229\n",
      "Epoch 23/150\n",
      "577/577 [==============================] - 0s 73us/step - loss: 0.0199 - mean_squared_error: 0.0199 - mean_absolute_error: 0.1083 - val_loss: 0.0247 - val_mean_squared_error: 0.0247 - val_mean_absolute_error: 0.1221\n",
      "Epoch 24/150\n",
      "577/577 [==============================] - 0s 72us/step - loss: 0.0197 - mean_squared_error: 0.0197 - mean_absolute_error: 0.1080 - val_loss: 0.0241 - val_mean_squared_error: 0.0241 - val_mean_absolute_error: 0.1213\n",
      "Epoch 25/150\n",
      "577/577 [==============================] - 0s 71us/step - loss: 0.0196 - mean_squared_error: 0.0196 - mean_absolute_error: 0.1077 - val_loss: 0.0240 - val_mean_squared_error: 0.0240 - val_mean_absolute_error: 0.1206\n",
      "Epoch 26/150\n",
      "577/577 [==============================] - 0s 72us/step - loss: 0.0194 - mean_squared_error: 0.0194 - mean_absolute_error: 0.1065 - val_loss: 0.0238 - val_mean_squared_error: 0.0238 - val_mean_absolute_error: 0.1201\n",
      "Epoch 27/150\n",
      "577/577 [==============================] - 0s 77us/step - loss: 0.0193 - mean_squared_error: 0.0193 - mean_absolute_error: 0.1055 - val_loss: 0.0238 - val_mean_squared_error: 0.0238 - val_mean_absolute_error: 0.1196\n",
      "Epoch 28/150\n",
      "577/577 [==============================] - 0s 75us/step - loss: 0.0191 - mean_squared_error: 0.0191 - mean_absolute_error: 0.1048 - val_loss: 0.0233 - val_mean_squared_error: 0.0233 - val_mean_absolute_error: 0.1190\n",
      "Epoch 29/150\n",
      "577/577 [==============================] - 0s 75us/step - loss: 0.0191 - mean_squared_error: 0.0191 - mean_absolute_error: 0.1054 - val_loss: 0.0233 - val_mean_squared_error: 0.0233 - val_mean_absolute_error: 0.1185\n",
      "Epoch 30/150\n",
      "577/577 [==============================] - 0s 72us/step - loss: 0.0190 - mean_squared_error: 0.0190 - mean_absolute_error: 0.1031 - val_loss: 0.0235 - val_mean_squared_error: 0.0235 - val_mean_absolute_error: 0.1182\n",
      "Epoch 31/150\n",
      "577/577 [==============================] - 0s 70us/step - loss: 0.0189 - mean_squared_error: 0.0189 - mean_absolute_error: 0.1027 - val_loss: 0.0231 - val_mean_squared_error: 0.0231 - val_mean_absolute_error: 0.1177\n",
      "Epoch 32/150\n",
      "577/577 [==============================] - 0s 70us/step - loss: 0.0188 - mean_squared_error: 0.0188 - mean_absolute_error: 0.1023 - val_loss: 0.0231 - val_mean_squared_error: 0.0231 - val_mean_absolute_error: 0.1173\n",
      "Epoch 33/150\n"
     ]
    },
    {
     "name": "stdout",
     "output_type": "stream",
     "text": [
      "577/577 [==============================] - 0s 72us/step - loss: 0.0187 - mean_squared_error: 0.0187 - mean_absolute_error: 0.1022 - val_loss: 0.0227 - val_mean_squared_error: 0.0227 - val_mean_absolute_error: 0.1170\n",
      "Epoch 34/150\n",
      "577/577 [==============================] - 0s 73us/step - loss: 0.0187 - mean_squared_error: 0.0187 - mean_absolute_error: 0.1018 - val_loss: 0.0228 - val_mean_squared_error: 0.0228 - val_mean_absolute_error: 0.1166\n",
      "Epoch 35/150\n",
      "577/577 [==============================] - 0s 71us/step - loss: 0.0187 - mean_squared_error: 0.0187 - mean_absolute_error: 0.1018 - val_loss: 0.0224 - val_mean_squared_error: 0.0224 - val_mean_absolute_error: 0.1161\n",
      "Epoch 36/150\n",
      "577/577 [==============================] - 0s 68us/step - loss: 0.0186 - mean_squared_error: 0.0186 - mean_absolute_error: 0.1011 - val_loss: 0.0226 - val_mean_squared_error: 0.0226 - val_mean_absolute_error: 0.1158\n",
      "Epoch 37/150\n",
      "577/577 [==============================] - 0s 79us/step - loss: 0.0186 - mean_squared_error: 0.0186 - mean_absolute_error: 0.1007 - val_loss: 0.0226 - val_mean_squared_error: 0.0226 - val_mean_absolute_error: 0.1155\n",
      "Epoch 38/150\n",
      "577/577 [==============================] - 0s 72us/step - loss: 0.0185 - mean_squared_error: 0.0185 - mean_absolute_error: 0.0998 - val_loss: 0.0226 - val_mean_squared_error: 0.0226 - val_mean_absolute_error: 0.1152\n",
      "Epoch 39/150\n",
      "577/577 [==============================] - 0s 70us/step - loss: 0.0185 - mean_squared_error: 0.0185 - mean_absolute_error: 0.0997 - val_loss: 0.0223 - val_mean_squared_error: 0.0223 - val_mean_absolute_error: 0.1150\n",
      "Epoch 40/150\n",
      "577/577 [==============================] - 0s 73us/step - loss: 0.0185 - mean_squared_error: 0.0185 - mean_absolute_error: 0.1007 - val_loss: 0.0222 - val_mean_squared_error: 0.0222 - val_mean_absolute_error: 0.1148\n",
      "Epoch 41/150\n",
      "577/577 [==============================] - 0s 77us/step - loss: 0.0184 - mean_squared_error: 0.0184 - mean_absolute_error: 0.1000 - val_loss: 0.0222 - val_mean_squared_error: 0.0222 - val_mean_absolute_error: 0.1145\n",
      "Epoch 42/150\n",
      "577/577 [==============================] - 0s 75us/step - loss: 0.0184 - mean_squared_error: 0.0184 - mean_absolute_error: 0.0996 - val_loss: 0.0222 - val_mean_squared_error: 0.0222 - val_mean_absolute_error: 0.1143\n",
      "Epoch 43/150\n",
      "577/577 [==============================] - 0s 74us/step - loss: 0.0183 - mean_squared_error: 0.0183 - mean_absolute_error: 0.0993 - val_loss: 0.0221 - val_mean_squared_error: 0.0221 - val_mean_absolute_error: 0.1141\n",
      "Epoch 44/150\n",
      "577/577 [==============================] - 0s 78us/step - loss: 0.0183 - mean_squared_error: 0.0183 - mean_absolute_error: 0.0991 - val_loss: 0.0220 - val_mean_squared_error: 0.0220 - val_mean_absolute_error: 0.1138\n",
      "Epoch 45/150\n",
      "577/577 [==============================] - 0s 76us/step - loss: 0.0184 - mean_squared_error: 0.0184 - mean_absolute_error: 0.0999 - val_loss: 0.0217 - val_mean_squared_error: 0.0217 - val_mean_absolute_error: 0.1133\n",
      "Epoch 46/150\n",
      "577/577 [==============================] - 0s 74us/step - loss: 0.0183 - mean_squared_error: 0.0183 - mean_absolute_error: 0.0995 - val_loss: 0.0220 - val_mean_squared_error: 0.0220 - val_mean_absolute_error: 0.1134\n",
      "Epoch 47/150\n",
      "577/577 [==============================] - 0s 70us/step - loss: 0.0183 - mean_squared_error: 0.0183 - mean_absolute_error: 0.0986 - val_loss: 0.0220 - val_mean_squared_error: 0.0220 - val_mean_absolute_error: 0.1132\n",
      "Epoch 48/150\n",
      "577/577 [==============================] - 0s 70us/step - loss: 0.0184 - mean_squared_error: 0.0184 - mean_absolute_error: 0.0998 - val_loss: 0.0215 - val_mean_squared_error: 0.0215 - val_mean_absolute_error: 0.1128\n",
      "Epoch 49/150\n",
      "577/577 [==============================] - 0s 71us/step - loss: 0.0183 - mean_squared_error: 0.0183 - mean_absolute_error: 0.0987 - val_loss: 0.0223 - val_mean_squared_error: 0.0223 - val_mean_absolute_error: 0.1135\n",
      "Epoch 50/150\n",
      "577/577 [==============================] - 0s 71us/step - loss: 0.0183 - mean_squared_error: 0.0183 - mean_absolute_error: 0.0989 - val_loss: 0.0215 - val_mean_squared_error: 0.0215 - val_mean_absolute_error: 0.1125\n",
      "Epoch 51/150\n",
      "577/577 [==============================] - 0s 68us/step - loss: 0.0182 - mean_squared_error: 0.0182 - mean_absolute_error: 0.0991 - val_loss: 0.0216 - val_mean_squared_error: 0.0216 - val_mean_absolute_error: 0.1124\n",
      "Epoch 52/150\n",
      "577/577 [==============================] - 0s 74us/step - loss: 0.0182 - mean_squared_error: 0.0182 - mean_absolute_error: 0.0983 - val_loss: 0.0218 - val_mean_squared_error: 0.0218 - val_mean_absolute_error: 0.1126\n",
      "Epoch 53/150\n",
      "577/577 [==============================] - 0s 80us/step - loss: 0.0183 - mean_squared_error: 0.0183 - mean_absolute_error: 0.0989 - val_loss: 0.0215 - val_mean_squared_error: 0.0215 - val_mean_absolute_error: 0.1123\n",
      "Epoch 54/150\n",
      "577/577 [==============================] - 0s 76us/step - loss: 0.0182 - mean_squared_error: 0.0182 - mean_absolute_error: 0.0982 - val_loss: 0.0217 - val_mean_squared_error: 0.0217 - val_mean_absolute_error: 0.1126\n",
      "Epoch 55/150\n",
      "577/577 [==============================] - 0s 74us/step - loss: 0.0182 - mean_squared_error: 0.0182 - mean_absolute_error: 0.0981 - val_loss: 0.0216 - val_mean_squared_error: 0.0216 - val_mean_absolute_error: 0.1123\n",
      "Epoch 56/150\n",
      "577/577 [==============================] - 0s 78us/step - loss: 0.0182 - mean_squared_error: 0.0182 - mean_absolute_error: 0.0988 - val_loss: 0.0214 - val_mean_squared_error: 0.0214 - val_mean_absolute_error: 0.1120\n",
      "Epoch 57/150\n",
      "577/577 [==============================] - 0s 70us/step - loss: 0.0183 - mean_squared_error: 0.0183 - mean_absolute_error: 0.0979 - val_loss: 0.0219 - val_mean_squared_error: 0.0219 - val_mean_absolute_error: 0.1126\n",
      "Epoch 58/150\n",
      "577/577 [==============================] - 0s 74us/step - loss: 0.0182 - mean_squared_error: 0.0182 - mean_absolute_error: 0.0987 - val_loss: 0.0211 - val_mean_squared_error: 0.0211 - val_mean_absolute_error: 0.1114\n",
      "Epoch 59/150\n",
      "577/577 [==============================] - 0s 73us/step - loss: 0.0181 - mean_squared_error: 0.0181 - mean_absolute_error: 0.0982 - val_loss: 0.0216 - val_mean_squared_error: 0.0216 - val_mean_absolute_error: 0.1120\n",
      "Epoch 60/150\n",
      "577/577 [==============================] - 0s 70us/step - loss: 0.0182 - mean_squared_error: 0.0182 - mean_absolute_error: 0.0974 - val_loss: 0.0216 - val_mean_squared_error: 0.0216 - val_mean_absolute_error: 0.1121\n",
      "Epoch 61/150\n",
      "577/577 [==============================] - 0s 71us/step - loss: 0.0181 - mean_squared_error: 0.0181 - mean_absolute_error: 0.0976 - val_loss: 0.0215 - val_mean_squared_error: 0.0215 - val_mean_absolute_error: 0.1120\n",
      "Epoch 62/150\n",
      "577/577 [==============================] - 0s 71us/step - loss: 0.0182 - mean_squared_error: 0.0182 - mean_absolute_error: 0.0987 - val_loss: 0.0211 - val_mean_squared_error: 0.0211 - val_mean_absolute_error: 0.1113\n",
      "Epoch 63/150\n",
      "577/577 [==============================] - 0s 71us/step - loss: 0.0181 - mean_squared_error: 0.0181 - mean_absolute_error: 0.0975 - val_loss: 0.0218 - val_mean_squared_error: 0.0218 - val_mean_absolute_error: 0.1122\n",
      "Epoch 64/150\n",
      "577/577 [==============================] - 0s 71us/step - loss: 0.0181 - mean_squared_error: 0.0181 - mean_absolute_error: 0.0973 - val_loss: 0.0213 - val_mean_squared_error: 0.0213 - val_mean_absolute_error: 0.1114\n",
      "Epoch 65/150\n",
      "577/577 [==============================] - 0s 70us/step - loss: 0.0181 - mean_squared_error: 0.0181 - mean_absolute_error: 0.0979 - val_loss: 0.0212 - val_mean_squared_error: 0.0212 - val_mean_absolute_error: 0.1114\n",
      "Epoch 66/150\n",
      "577/577 [==============================] - 0s 72us/step - loss: 0.0181 - mean_squared_error: 0.0181 - mean_absolute_error: 0.0981 - val_loss: 0.0214 - val_mean_squared_error: 0.0214 - val_mean_absolute_error: 0.1114\n",
      "Epoch 67/150\n",
      "577/577 [==============================] - 0s 70us/step - loss: 0.0182 - mean_squared_error: 0.0182 - mean_absolute_error: 0.0975 - val_loss: 0.0218 - val_mean_squared_error: 0.0218 - val_mean_absolute_error: 0.1120\n",
      "Epoch 68/150\n",
      "577/577 [==============================] - 0s 71us/step - loss: 0.0182 - mean_squared_error: 0.0182 - mean_absolute_error: 0.0979 - val_loss: 0.0210 - val_mean_squared_error: 0.0210 - val_mean_absolute_error: 0.1108\n"
     ]
    },
    {
     "name": "stdout",
     "output_type": "stream",
     "text": [
      "Epoch 69/150\n",
      "577/577 [==============================] - 0s 71us/step - loss: 0.0182 - mean_squared_error: 0.0182 - mean_absolute_error: 0.0976 - val_loss: 0.0217 - val_mean_squared_error: 0.0217 - val_mean_absolute_error: 0.1120\n",
      "Epoch 70/150\n",
      "577/577 [==============================] - 0s 67us/step - loss: 0.0181 - mean_squared_error: 0.0181 - mean_absolute_error: 0.0974 - val_loss: 0.0212 - val_mean_squared_error: 0.0212 - val_mean_absolute_error: 0.1113\n",
      "Epoch 71/150\n",
      "577/577 [==============================] - 0s 74us/step - loss: 0.0182 - mean_squared_error: 0.0182 - mean_absolute_error: 0.0982 - val_loss: 0.0214 - val_mean_squared_error: 0.0214 - val_mean_absolute_error: 0.1114\n",
      "Epoch 72/150\n",
      "577/577 [==============================] - 0s 73us/step - loss: 0.0181 - mean_squared_error: 0.0181 - mean_absolute_error: 0.0971 - val_loss: 0.0215 - val_mean_squared_error: 0.0215 - val_mean_absolute_error: 0.1116\n",
      "Epoch 73/150\n",
      "577/577 [==============================] - 0s 70us/step - loss: 0.0180 - mean_squared_error: 0.0180 - mean_absolute_error: 0.0972 - val_loss: 0.0210 - val_mean_squared_error: 0.0210 - val_mean_absolute_error: 0.1106\n",
      "Epoch 74/150\n",
      "577/577 [==============================] - 0s 72us/step - loss: 0.0181 - mean_squared_error: 0.0181 - mean_absolute_error: 0.0978 - val_loss: 0.0213 - val_mean_squared_error: 0.0213 - val_mean_absolute_error: 0.1111\n",
      "Epoch 75/150\n",
      "577/577 [==============================] - 0s 72us/step - loss: 0.0181 - mean_squared_error: 0.0181 - mean_absolute_error: 0.0980 - val_loss: 0.0211 - val_mean_squared_error: 0.0211 - val_mean_absolute_error: 0.1110\n",
      "Epoch 76/150\n",
      "577/577 [==============================] - 0s 77us/step - loss: 0.0181 - mean_squared_error: 0.0181 - mean_absolute_error: 0.0974 - val_loss: 0.0213 - val_mean_squared_error: 0.0213 - val_mean_absolute_error: 0.1110\n",
      "Epoch 77/150\n",
      "577/577 [==============================] - 0s 71us/step - loss: 0.0180 - mean_squared_error: 0.0180 - mean_absolute_error: 0.0973 - val_loss: 0.0211 - val_mean_squared_error: 0.0211 - val_mean_absolute_error: 0.1104\n",
      "Epoch 78/150\n",
      "577/577 [==============================] - 0s 69us/step - loss: 0.0180 - mean_squared_error: 0.0180 - mean_absolute_error: 0.0975 - val_loss: 0.0211 - val_mean_squared_error: 0.0211 - val_mean_absolute_error: 0.1106\n",
      "Epoch 79/150\n",
      "577/577 [==============================] - 0s 71us/step - loss: 0.0181 - mean_squared_error: 0.0181 - mean_absolute_error: 0.0971 - val_loss: 0.0213 - val_mean_squared_error: 0.0213 - val_mean_absolute_error: 0.1110\n",
      "Epoch 80/150\n",
      "577/577 [==============================] - 0s 70us/step - loss: 0.0181 - mean_squared_error: 0.0181 - mean_absolute_error: 0.0976 - val_loss: 0.0210 - val_mean_squared_error: 0.0210 - val_mean_absolute_error: 0.1105\n",
      "Epoch 81/150\n",
      "577/577 [==============================] - 0s 70us/step - loss: 0.0180 - mean_squared_error: 0.0180 - mean_absolute_error: 0.0971 - val_loss: 0.0214 - val_mean_squared_error: 0.0214 - val_mean_absolute_error: 0.1112\n",
      "Epoch 82/150\n",
      "577/577 [==============================] - 0s 72us/step - loss: 0.0181 - mean_squared_error: 0.0181 - mean_absolute_error: 0.0969 - val_loss: 0.0215 - val_mean_squared_error: 0.0215 - val_mean_absolute_error: 0.1113\n",
      "Epoch 83/150\n",
      "577/577 [==============================] - 0s 70us/step - loss: 0.0180 - mean_squared_error: 0.0180 - mean_absolute_error: 0.0970 - val_loss: 0.0209 - val_mean_squared_error: 0.0209 - val_mean_absolute_error: 0.1103\n",
      "Epoch 84/150\n",
      "577/577 [==============================] - 0s 70us/step - loss: 0.0181 - mean_squared_error: 0.0181 - mean_absolute_error: 0.0979 - val_loss: 0.0211 - val_mean_squared_error: 0.0211 - val_mean_absolute_error: 0.1105\n",
      "Epoch 85/150\n",
      "577/577 [==============================] - 0s 72us/step - loss: 0.0180 - mean_squared_error: 0.0180 - mean_absolute_error: 0.0972 - val_loss: 0.0212 - val_mean_squared_error: 0.0212 - val_mean_absolute_error: 0.1107\n",
      "Epoch 86/150\n",
      "577/577 [==============================] - 0s 73us/step - loss: 0.0180 - mean_squared_error: 0.0180 - mean_absolute_error: 0.0969 - val_loss: 0.0212 - val_mean_squared_error: 0.0212 - val_mean_absolute_error: 0.1108\n",
      "Epoch 87/150\n",
      "577/577 [==============================] - 0s 77us/step - loss: 0.0182 - mean_squared_error: 0.0182 - mean_absolute_error: 0.0981 - val_loss: 0.0209 - val_mean_squared_error: 0.0209 - val_mean_absolute_error: 0.1102\n",
      "Epoch 88/150\n",
      "577/577 [==============================] - 0s 75us/step - loss: 0.0180 - mean_squared_error: 0.0180 - mean_absolute_error: 0.0967 - val_loss: 0.0216 - val_mean_squared_error: 0.0216 - val_mean_absolute_error: 0.1115\n",
      "Epoch 89/150\n",
      "577/577 [==============================] - 0s 76us/step - loss: 0.0181 - mean_squared_error: 0.0181 - mean_absolute_error: 0.0971 - val_loss: 0.0211 - val_mean_squared_error: 0.0211 - val_mean_absolute_error: 0.1106\n",
      "Epoch 90/150\n",
      "577/577 [==============================] - 0s 75us/step - loss: 0.0182 - mean_squared_error: 0.0182 - mean_absolute_error: 0.0969 - val_loss: 0.0213 - val_mean_squared_error: 0.0213 - val_mean_absolute_error: 0.1109\n",
      "Epoch 91/150\n",
      "577/577 [==============================] - 0s 76us/step - loss: 0.0181 - mean_squared_error: 0.0181 - mean_absolute_error: 0.0976 - val_loss: 0.0211 - val_mean_squared_error: 0.0211 - val_mean_absolute_error: 0.1105\n",
      "Epoch 92/150\n",
      "577/577 [==============================] - 0s 74us/step - loss: 0.0180 - mean_squared_error: 0.0180 - mean_absolute_error: 0.0971 - val_loss: 0.0211 - val_mean_squared_error: 0.0211 - val_mean_absolute_error: 0.1106\n",
      "Epoch 93/150\n",
      "577/577 [==============================] - 0s 74us/step - loss: 0.0180 - mean_squared_error: 0.0180 - mean_absolute_error: 0.0973 - val_loss: 0.0211 - val_mean_squared_error: 0.0211 - val_mean_absolute_error: 0.1103\n",
      "Epoch 94/150\n",
      "577/577 [==============================] - 0s 76us/step - loss: 0.0182 - mean_squared_error: 0.0182 - mean_absolute_error: 0.0978 - val_loss: 0.0214 - val_mean_squared_error: 0.0214 - val_mean_absolute_error: 0.1109\n",
      "Epoch 95/150\n",
      "577/577 [==============================] - 0s 72us/step - loss: 0.0180 - mean_squared_error: 0.0180 - mean_absolute_error: 0.0965 - val_loss: 0.0212 - val_mean_squared_error: 0.0212 - val_mean_absolute_error: 0.1107\n",
      "Epoch 96/150\n",
      "577/577 [==============================] - 0s 73us/step - loss: 0.0181 - mean_squared_error: 0.0181 - mean_absolute_error: 0.0976 - val_loss: 0.0211 - val_mean_squared_error: 0.0211 - val_mean_absolute_error: 0.1103\n",
      "Epoch 97/150\n",
      "577/577 [==============================] - 0s 72us/step - loss: 0.0180 - mean_squared_error: 0.0180 - mean_absolute_error: 0.0968 - val_loss: 0.0211 - val_mean_squared_error: 0.0211 - val_mean_absolute_error: 0.1105\n",
      "Epoch 98/150\n",
      "577/577 [==============================] - 0s 75us/step - loss: 0.0180 - mean_squared_error: 0.0180 - mean_absolute_error: 0.0975 - val_loss: 0.0208 - val_mean_squared_error: 0.0208 - val_mean_absolute_error: 0.1098\n",
      "Epoch 99/150\n",
      "577/577 [==============================] - 0s 72us/step - loss: 0.0180 - mean_squared_error: 0.0180 - mean_absolute_error: 0.0969 - val_loss: 0.0213 - val_mean_squared_error: 0.0213 - val_mean_absolute_error: 0.1106\n",
      "Epoch 100/150\n",
      "577/577 [==============================] - 0s 74us/step - loss: 0.0181 - mean_squared_error: 0.0181 - mean_absolute_error: 0.0964 - val_loss: 0.0213 - val_mean_squared_error: 0.0213 - val_mean_absolute_error: 0.1108\n",
      "Epoch 101/150\n",
      "577/577 [==============================] - 0s 74us/step - loss: 0.0180 - mean_squared_error: 0.0180 - mean_absolute_error: 0.0972 - val_loss: 0.0209 - val_mean_squared_error: 0.0209 - val_mean_absolute_error: 0.1102\n",
      "Epoch 102/150\n",
      "577/577 [==============================] - 0s 70us/step - loss: 0.0180 - mean_squared_error: 0.0180 - mean_absolute_error: 0.0969 - val_loss: 0.0212 - val_mean_squared_error: 0.0212 - val_mean_absolute_error: 0.1105\n",
      "Epoch 103/150\n",
      "577/577 [==============================] - 0s 76us/step - loss: 0.0180 - mean_squared_error: 0.0180 - mean_absolute_error: 0.0965 - val_loss: 0.0213 - val_mean_squared_error: 0.0213 - val_mean_absolute_error: 0.1108\n",
      "Epoch 104/150\n",
      "577/577 [==============================] - 0s 66us/step - loss: 0.0183 - mean_squared_error: 0.0183 - mean_absolute_error: 0.0984 - val_loss: 0.0208 - val_mean_squared_error: 0.0208 - val_mean_absolute_error: 0.1099\n"
     ]
    },
    {
     "name": "stdout",
     "output_type": "stream",
     "text": [
      "Epoch 105/150\n",
      "577/577 [==============================] - 0s 69us/step - loss: 0.0181 - mean_squared_error: 0.0181 - mean_absolute_error: 0.0968 - val_loss: 0.0216 - val_mean_squared_error: 0.0216 - val_mean_absolute_error: 0.1110\n",
      "Epoch 106/150\n",
      "577/577 [==============================] - 0s 71us/step - loss: 0.0181 - mean_squared_error: 0.0181 - mean_absolute_error: 0.0980 - val_loss: 0.0207 - val_mean_squared_error: 0.0207 - val_mean_absolute_error: 0.1099\n",
      "Epoch 107/150\n",
      "577/577 [==============================] - 0s 68us/step - loss: 0.0180 - mean_squared_error: 0.0180 - mean_absolute_error: 0.0969 - val_loss: 0.0216 - val_mean_squared_error: 0.0216 - val_mean_absolute_error: 0.1112\n",
      "Epoch 108/150\n",
      "577/577 [==============================] - 0s 67us/step - loss: 0.0180 - mean_squared_error: 0.0180 - mean_absolute_error: 0.0968 - val_loss: 0.0209 - val_mean_squared_error: 0.0209 - val_mean_absolute_error: 0.1101\n",
      "Epoch 109/150\n",
      "577/577 [==============================] - 0s 83us/step - loss: 0.0180 - mean_squared_error: 0.0180 - mean_absolute_error: 0.0970 - val_loss: 0.0211 - val_mean_squared_error: 0.0211 - val_mean_absolute_error: 0.1102\n",
      "Epoch 110/150\n",
      "577/577 [==============================] - 0s 72us/step - loss: 0.0180 - mean_squared_error: 0.0180 - mean_absolute_error: 0.0965 - val_loss: 0.0213 - val_mean_squared_error: 0.0213 - val_mean_absolute_error: 0.1108\n",
      "Epoch 111/150\n",
      "577/577 [==============================] - 0s 72us/step - loss: 0.0180 - mean_squared_error: 0.0180 - mean_absolute_error: 0.0969 - val_loss: 0.0209 - val_mean_squared_error: 0.0209 - val_mean_absolute_error: 0.1100\n",
      "Epoch 112/150\n",
      "577/577 [==============================] - 0s 76us/step - loss: 0.0179 - mean_squared_error: 0.0179 - mean_absolute_error: 0.0969 - val_loss: 0.0214 - val_mean_squared_error: 0.0214 - val_mean_absolute_error: 0.1107\n",
      "Epoch 113/150\n",
      "577/577 [==============================] - 0s 75us/step - loss: 0.0180 - mean_squared_error: 0.0180 - mean_absolute_error: 0.0965 - val_loss: 0.0212 - val_mean_squared_error: 0.0212 - val_mean_absolute_error: 0.1105\n",
      "Epoch 114/150\n",
      "577/577 [==============================] - 0s 74us/step - loss: 0.0179 - mean_squared_error: 0.0179 - mean_absolute_error: 0.0966 - val_loss: 0.0212 - val_mean_squared_error: 0.0212 - val_mean_absolute_error: 0.1104\n",
      "Epoch 115/150\n",
      "577/577 [==============================] - 0s 76us/step - loss: 0.0179 - mean_squared_error: 0.0179 - mean_absolute_error: 0.0966 - val_loss: 0.0212 - val_mean_squared_error: 0.0212 - val_mean_absolute_error: 0.1103\n",
      "Epoch 116/150\n",
      "577/577 [==============================] - 0s 89us/step - loss: 0.0179 - mean_squared_error: 0.0179 - mean_absolute_error: 0.0965 - val_loss: 0.0211 - val_mean_squared_error: 0.0211 - val_mean_absolute_error: 0.1103\n",
      "Epoch 117/150\n",
      "577/577 [==============================] - 0s 79us/step - loss: 0.0179 - mean_squared_error: 0.0179 - mean_absolute_error: 0.0967 - val_loss: 0.0212 - val_mean_squared_error: 0.0212 - val_mean_absolute_error: 0.1105\n",
      "Epoch 118/150\n",
      "577/577 [==============================] - 0s 76us/step - loss: 0.0179 - mean_squared_error: 0.0179 - mean_absolute_error: 0.0963 - val_loss: 0.0213 - val_mean_squared_error: 0.0213 - val_mean_absolute_error: 0.1105\n",
      "Epoch 119/150\n",
      "577/577 [==============================] - 0s 75us/step - loss: 0.0179 - mean_squared_error: 0.0179 - mean_absolute_error: 0.0965 - val_loss: 0.0208 - val_mean_squared_error: 0.0208 - val_mean_absolute_error: 0.1097\n",
      "Epoch 120/150\n",
      "577/577 [==============================] - 0s 78us/step - loss: 0.0179 - mean_squared_error: 0.0179 - mean_absolute_error: 0.0972 - val_loss: 0.0210 - val_mean_squared_error: 0.0210 - val_mean_absolute_error: 0.1100\n",
      "Epoch 121/150\n",
      "577/577 [==============================] - 0s 74us/step - loss: 0.0179 - mean_squared_error: 0.0179 - mean_absolute_error: 0.0965 - val_loss: 0.0211 - val_mean_squared_error: 0.0211 - val_mean_absolute_error: 0.1102\n",
      "Epoch 122/150\n",
      "577/577 [==============================] - 0s 76us/step - loss: 0.0179 - mean_squared_error: 0.0179 - mean_absolute_error: 0.0963 - val_loss: 0.0211 - val_mean_squared_error: 0.0211 - val_mean_absolute_error: 0.1101\n",
      "Epoch 123/150\n",
      "577/577 [==============================] - 0s 73us/step - loss: 0.0179 - mean_squared_error: 0.0179 - mean_absolute_error: 0.0964 - val_loss: 0.0212 - val_mean_squared_error: 0.0212 - val_mean_absolute_error: 0.1105\n",
      "Epoch 124/150\n",
      "577/577 [==============================] - 0s 73us/step - loss: 0.0179 - mean_squared_error: 0.0179 - mean_absolute_error: 0.0973 - val_loss: 0.0208 - val_mean_squared_error: 0.0208 - val_mean_absolute_error: 0.1098\n",
      "Epoch 125/150\n",
      "577/577 [==============================] - 0s 72us/step - loss: 0.0179 - mean_squared_error: 0.0179 - mean_absolute_error: 0.0970 - val_loss: 0.0214 - val_mean_squared_error: 0.0214 - val_mean_absolute_error: 0.1105\n",
      "Epoch 126/150\n",
      "577/577 [==============================] - 0s 71us/step - loss: 0.0181 - mean_squared_error: 0.0181 - mean_absolute_error: 0.0962 - val_loss: 0.0211 - val_mean_squared_error: 0.0211 - val_mean_absolute_error: 0.1102\n",
      "Epoch 127/150\n",
      "577/577 [==============================] - 0s 72us/step - loss: 0.0179 - mean_squared_error: 0.0179 - mean_absolute_error: 0.0966 - val_loss: 0.0208 - val_mean_squared_error: 0.0208 - val_mean_absolute_error: 0.1096\n",
      "Epoch 128/150\n",
      "577/577 [==============================] - 0s 73us/step - loss: 0.0179 - mean_squared_error: 0.0179 - mean_absolute_error: 0.0968 - val_loss: 0.0212 - val_mean_squared_error: 0.0212 - val_mean_absolute_error: 0.1101\n",
      "Epoch 129/150\n",
      "577/577 [==============================] - 0s 72us/step - loss: 0.0179 - mean_squared_error: 0.0179 - mean_absolute_error: 0.0963 - val_loss: 0.0211 - val_mean_squared_error: 0.0211 - val_mean_absolute_error: 0.1104\n",
      "Epoch 130/150\n",
      "577/577 [==============================] - 0s 76us/step - loss: 0.0179 - mean_squared_error: 0.0179 - mean_absolute_error: 0.0970 - val_loss: 0.0211 - val_mean_squared_error: 0.0211 - val_mean_absolute_error: 0.1101\n",
      "Epoch 131/150\n",
      "577/577 [==============================] - 0s 72us/step - loss: 0.0179 - mean_squared_error: 0.0179 - mean_absolute_error: 0.0962 - val_loss: 0.0215 - val_mean_squared_error: 0.0215 - val_mean_absolute_error: 0.1107\n",
      "Epoch 132/150\n",
      "577/577 [==============================] - 0s 74us/step - loss: 0.0179 - mean_squared_error: 0.0179 - mean_absolute_error: 0.0967 - val_loss: 0.0208 - val_mean_squared_error: 0.0208 - val_mean_absolute_error: 0.1095\n",
      "Epoch 133/150\n",
      "577/577 [==============================] - 0s 78us/step - loss: 0.0180 - mean_squared_error: 0.0180 - mean_absolute_error: 0.0966 - val_loss: 0.0210 - val_mean_squared_error: 0.0210 - val_mean_absolute_error: 0.1099\n",
      "Epoch 134/150\n",
      "577/577 [==============================] - 0s 72us/step - loss: 0.0179 - mean_squared_error: 0.0179 - mean_absolute_error: 0.0967 - val_loss: 0.0210 - val_mean_squared_error: 0.0210 - val_mean_absolute_error: 0.1101\n",
      "Epoch 135/150\n",
      "577/577 [==============================] - 0s 68us/step - loss: 0.0180 - mean_squared_error: 0.0180 - mean_absolute_error: 0.0971 - val_loss: 0.0210 - val_mean_squared_error: 0.0210 - val_mean_absolute_error: 0.1100\n",
      "Epoch 136/150\n",
      "577/577 [==============================] - 0s 71us/step - loss: 0.0179 - mean_squared_error: 0.0179 - mean_absolute_error: 0.0961 - val_loss: 0.0213 - val_mean_squared_error: 0.0213 - val_mean_absolute_error: 0.1107\n",
      "Epoch 137/150\n",
      "577/577 [==============================] - 0s 70us/step - loss: 0.0179 - mean_squared_error: 0.0179 - mean_absolute_error: 0.0963 - val_loss: 0.0208 - val_mean_squared_error: 0.0208 - val_mean_absolute_error: 0.1095\n",
      "Epoch 138/150\n",
      "577/577 [==============================] - 0s 74us/step - loss: 0.0179 - mean_squared_error: 0.0179 - mean_absolute_error: 0.0971 - val_loss: 0.0210 - val_mean_squared_error: 0.0210 - val_mean_absolute_error: 0.1097\n",
      "Epoch 139/150\n",
      "577/577 [==============================] - 0s 69us/step - loss: 0.0179 - mean_squared_error: 0.0179 - mean_absolute_error: 0.0964 - val_loss: 0.0214 - val_mean_squared_error: 0.0214 - val_mean_absolute_error: 0.1105\n",
      "Epoch 140/150\n",
      "577/577 [==============================] - 0s 69us/step - loss: 0.0179 - mean_squared_error: 0.0179 - mean_absolute_error: 0.0959 - val_loss: 0.0209 - val_mean_squared_error: 0.0209 - val_mean_absolute_error: 0.1098\n"
     ]
    },
    {
     "name": "stdout",
     "output_type": "stream",
     "text": [
      "Epoch 141/150\n",
      "577/577 [==============================] - 0s 69us/step - loss: 0.0179 - mean_squared_error: 0.0179 - mean_absolute_error: 0.0973 - val_loss: 0.0208 - val_mean_squared_error: 0.0208 - val_mean_absolute_error: 0.1097\n",
      "Epoch 142/150\n",
      "577/577 [==============================] - 0s 72us/step - loss: 0.0180 - mean_squared_error: 0.0180 - mean_absolute_error: 0.0962 - val_loss: 0.0215 - val_mean_squared_error: 0.0215 - val_mean_absolute_error: 0.1108\n",
      "Epoch 143/150\n",
      "577/577 [==============================] - 0s 73us/step - loss: 0.0178 - mean_squared_error: 0.0178 - mean_absolute_error: 0.0963 - val_loss: 0.0207 - val_mean_squared_error: 0.0207 - val_mean_absolute_error: 0.1096\n",
      "Epoch 144/150\n",
      "577/577 [==============================] - 0s 74us/step - loss: 0.0179 - mean_squared_error: 0.0179 - mean_absolute_error: 0.0971 - val_loss: 0.0209 - val_mean_squared_error: 0.0209 - val_mean_absolute_error: 0.1095\n",
      "Epoch 145/150\n",
      "577/577 [==============================] - 0s 76us/step - loss: 0.0179 - mean_squared_error: 0.0179 - mean_absolute_error: 0.0961 - val_loss: 0.0212 - val_mean_squared_error: 0.0212 - val_mean_absolute_error: 0.1100\n",
      "Epoch 146/150\n",
      "577/577 [==============================] - 0s 94us/step - loss: 0.0179 - mean_squared_error: 0.0179 - mean_absolute_error: 0.0962 - val_loss: 0.0209 - val_mean_squared_error: 0.0209 - val_mean_absolute_error: 0.1098\n",
      "Epoch 147/150\n",
      "577/577 [==============================] - 0s 95us/step - loss: 0.0179 - mean_squared_error: 0.0179 - mean_absolute_error: 0.0962 - val_loss: 0.0210 - val_mean_squared_error: 0.0210 - val_mean_absolute_error: 0.1100\n",
      "Epoch 148/150\n",
      "577/577 [==============================] - 0s 72us/step - loss: 0.0178 - mean_squared_error: 0.0178 - mean_absolute_error: 0.0963 - val_loss: 0.0210 - val_mean_squared_error: 0.0210 - val_mean_absolute_error: 0.1097\n",
      "Epoch 149/150\n",
      "577/577 [==============================] - 0s 70us/step - loss: 0.0179 - mean_squared_error: 0.0179 - mean_absolute_error: 0.0962 - val_loss: 0.0211 - val_mean_squared_error: 0.0211 - val_mean_absolute_error: 0.1098\n",
      "Epoch 150/150\n",
      "577/577 [==============================] - 0s 71us/step - loss: 0.0179 - mean_squared_error: 0.0179 - mean_absolute_error: 0.0964 - val_loss: 0.0210 - val_mean_squared_error: 0.0210 - val_mean_absolute_error: 0.1098\n"
     ]
    }
   ],
   "source": [
    "from sklearn.model_selection import train_test_split\n",
    "from sklearn.model_selection import cross_val_score\n",
    "from sklearn.model_selection import KFold\n",
    "from sklearn.pipeline import Pipeline\n",
    "from sklearn.preprocessing import MinMaxScaler\n",
    "\n",
    "#Variables\n",
    "dataset=np.loadtxt(\"cars.csv\", delimiter=\",\")\n",
    "x=dataset[:,0:5]\n",
    "y=dataset[:,5]\n",
    "y=np.reshape(y, (-1,1))\n",
    "scaler = MinMaxScaler()\n",
    "print(scaler.fit(x))\n",
    "print(scaler.fit(y))\n",
    "xscale=scaler.transform(x)\n",
    "yscale=scaler.transform(y)\n",
    "X_train, X_test, y_train, y_test = train_test_split(xscale, yscale)\n",
    "\n",
    "model = Sequential()\n",
    "model.add(Dense(12, input_dim=5, kernel_initializer='normal', activation='relu'))\n",
    "model.add(Dense(8, activation='relu'))\n",
    "model.add(Dense(1, activation='linear'))\n",
    "model.summary()\n",
    "\n",
    "model.compile(loss='mse', optimizer='adam', metrics=['mse','mae'])\n",
    "history = model.fit(X_train, y_train, epochs=150, batch_size=50,  verbose=1, validation_split=0.2)"
   ]
  },
  {
   "cell_type": "code",
   "execution_count": 1,
   "metadata": {},
   "outputs": [
    {
     "ename": "NameError",
     "evalue": "name 'history' is not defined",
     "output_type": "error",
     "traceback": [
      "\u001b[0;31m---------------------------------------------------------------------------\u001b[0m",
      "\u001b[0;31mNameError\u001b[0m                                 Traceback (most recent call last)",
      "\u001b[0;32m<ipython-input-1-7463a885b656>\u001b[0m in \u001b[0;36m<module>\u001b[0;34m()\u001b[0m\n\u001b[0;32m----> 1\u001b[0;31m \u001b[0mprint\u001b[0m\u001b[0;34m(\u001b[0m\u001b[0mhistory\u001b[0m\u001b[0;34m.\u001b[0m\u001b[0mhistory\u001b[0m\u001b[0;34m.\u001b[0m\u001b[0mkeys\u001b[0m\u001b[0;34m(\u001b[0m\u001b[0;34m)\u001b[0m\u001b[0;34m)\u001b[0m\u001b[0;34m\u001b[0m\u001b[0m\n\u001b[0m\u001b[1;32m      2\u001b[0m \u001b[0;31m# \"Loss\"\u001b[0m\u001b[0;34m\u001b[0m\u001b[0;34m\u001b[0m\u001b[0m\n\u001b[1;32m      3\u001b[0m \u001b[0mplt\u001b[0m\u001b[0;34m.\u001b[0m\u001b[0mplot\u001b[0m\u001b[0;34m(\u001b[0m\u001b[0mhistory\u001b[0m\u001b[0;34m.\u001b[0m\u001b[0mhistory\u001b[0m\u001b[0;34m[\u001b[0m\u001b[0;34m'loss'\u001b[0m\u001b[0;34m]\u001b[0m\u001b[0;34m)\u001b[0m\u001b[0;34m\u001b[0m\u001b[0m\n\u001b[1;32m      4\u001b[0m \u001b[0;31m# plt.plot(history.history['val_loss'])\u001b[0m\u001b[0;34m\u001b[0m\u001b[0;34m\u001b[0m\u001b[0m\n\u001b[1;32m      5\u001b[0m \u001b[0mplt\u001b[0m\u001b[0;34m.\u001b[0m\u001b[0mtitle\u001b[0m\u001b[0;34m(\u001b[0m\u001b[0;34m'model loss'\u001b[0m\u001b[0;34m)\u001b[0m\u001b[0;34m\u001b[0m\u001b[0m\n",
      "\u001b[0;31mNameError\u001b[0m: name 'history' is not defined"
     ]
    }
   ],
   "source": [
    "print(history.history.keys())\n",
    "# \"Loss\"\n",
    "plt.plot(history.history['loss'])\n",
    "# plt.plot(history.history['val_loss'])\n",
    "plt.title('model loss')\n",
    "plt.ylabel('loss')\n",
    "plt.xlabel('epoch')\n",
    "plt.legend(['train', 'validation'], loc='upper left')\n",
    "plt.show()"
   ]
  }
 ],
 "metadata": {
  "kernelspec": {
   "display_name": "Python [py36]",
   "language": "python",
   "name": "Python [py36]"
  },
  "language_info": {
   "codemirror_mode": {
    "name": "ipython",
    "version": 3
   },
   "file_extension": ".py",
   "mimetype": "text/x-python",
   "name": "python",
   "nbconvert_exporter": "python",
   "pygments_lexer": "ipython3",
   "version": "3.6.2"
  }
 },
 "nbformat": 4,
 "nbformat_minor": 2
}
