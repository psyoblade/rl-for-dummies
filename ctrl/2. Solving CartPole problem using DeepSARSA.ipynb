{
 "cells": [
  {
   "cell_type": "markdown",
   "metadata": {},
   "source": [
    "# Solving CartPole problem using DeepSARSA\n",
    "> 딥살사 알고리즘을 활용하여 카트폴 문제를 풀 수 있을까? Yes !"
   ]
  },
  {
   "cell_type": "markdown",
   "metadata": {},
   "source": [
    "<video src=\"completed/deep_sarsa-500-episodes.mp4\" controls></video>"
   ]
  },
  {
   "cell_type": "code",
   "execution_count": 1,
   "metadata": {},
   "outputs": [
    {
     "name": "stderr",
     "output_type": "stream",
     "text": [
      "Using TensorFlow backend.\n"
     ]
    }
   ],
   "source": [
    "import sys, os, math, random, copy, gym, pylab\n",
    "import numpy as np\n",
    "import matplotlib.pyplot as plt\n",
    "from gym import envs\n",
    "from IPython import display\n",
    "from keras.models import Sequential\n",
    "from keras.layers import Dense\n",
    "from keras.optimizers import Adam\n",
    "from sklearn.preprocessing import MinMaxScaler\n",
    "%matplotlib inline"
   ]
  },
  {
   "cell_type": "code",
   "execution_count": 2,
   "metadata": {},
   "outputs": [
    {
     "name": "stderr",
     "output_type": "stream",
     "text": [
      "/Users/psyoblade/anaconda/envs/py36/lib/python3.6/site-packages/sklearn/linear_model/base.py:485: RuntimeWarning: internal gelsd driver lwork query error, required iwork dimension not returned. This is likely the result of LAPACK bug 0038, fixed in LAPACK 3.2.2 (released July 21, 2010). Falling back to 'gelss' driver.\n",
      "  linalg.lstsq(X, y)\n"
     ]
    },
    {
     "data": {
      "image/png": "[encoded data removed]",
      "text/plain": [
       "<Figure size 432x288 with 1 Axes>"
      ]
     },
     "metadata": {
      "needs_background": "light"
     },
     "output_type": "display_data"
    }
   ],
   "source": [
    "# 고정된 학습 네트워크 분포를 위해 시드를 고정\n",
    "import matplotlib.pyplot as plt\n",
    "import numpy as np\n",
    "from numpy.random import seed\n",
    "seed(4523)\n",
    "\n",
    "x = np.random.rand(100, 1) # 0 ~ 1 사이의 난수를 100개 생성\n",
    "x = x * 4 - 2 # 값의 범위를 -2 ~ 2 사이로 변경\n",
    "y = 3 * x**2 - 2 # y = a*x**2 + b*x+ c\n",
    "y += np.random.randn(100, 1) # 평균이 0이고 표준편차가 1인 정규분포 \n",
    "\n",
    "from sklearn import linear_model\n",
    "model = linear_model.LinearRegression()\n",
    "model.fit(x**2, y)\n",
    "\n",
    "plt.scatter(x, y, marker='+')\n",
    "plt.scatter(x, model.predict(x**2), marker='o')\n",
    "plt.show()"
   ]
  },
  {
   "cell_type": "code",
   "execution_count": 3,
   "metadata": {},
   "outputs": [
    {
     "name": "stdout",
     "output_type": "stream",
     "text": [
      "0.6476178335731041\n",
      "0.9415636547329244\n",
      "0.6476178335731041\n",
      "0.17670961925684514\n"
     ]
    }
   ],
   "source": [
    "# 매번 같은 숫자를 내어준다는 의미가 아니라, 시드 함수 호출 이후 항상 같은 랜덤 숫자를 반환합니다\n",
    "# <a href=\"https://machinelearningmastery.com/reproducible-results-neural-networks-keras/\">Reproducible_Keras_Vars</a>\n",
    "random_seed = 4523\n",
    "seed(random_seed)\n",
    "expected=[0.32639907465349627, 0.2682238894755389, 0.7840440067765225]\n",
    "\n",
    "class RandomNumber:\n",
    "    def __init__(self, expected):\n",
    "        self.expected = expected\n",
    "    def assert_equals(self, i):\n",
    "        actual = np.random.rand()\n",
    "        expected = self.expected[i]\n",
    "        assert(expected == actual)\n",
    "\n",
    "randn = RandomNumber(expected)\n",
    "for x in range(len(expected)):\n",
    "    randn.assert_equals(x)\n",
    "    \n",
    "# 텐서 플로우의 경우에도 마찬가지로 시드 변수를 제공하면 동일한 효과를 가질 수 있습니다\n",
    "from tensorflow import set_random_seed\n",
    "import tensorflow as tf\n",
    "\n",
    "set_random_seed(random_seed)\n",
    "\n",
    "# 테스트 랜덤 시더\n",
    "seednum = 1047104523\n",
    "\n",
    "class RandomSeeder:\n",
    "    global random_seed\n",
    "    def __init__(self):\n",
    "        self.set_seed()\n",
    "        \n",
    "    def set_seed(self, seed_number=seednum):\n",
    "        seed(seed_number)\n",
    "        set_random_seed(seed_number)\n",
    "        \n",
    "    def reset(self):\n",
    "        seed()\n",
    "        set_random_seed(0)\n",
    "        \n",
    "    def debug(self):\n",
    "        x = np.random.rand()\n",
    "        print(x)\n",
    "    \n",
    "seeder = RandomSeeder()\n",
    "seeder.debug() # 0.6476178335731041\n",
    "seeder.reset()\n",
    "seeder.debug()\n",
    "seeder.set_seed()\n",
    "seeder.debug() # 0.6476178335731041\n",
    "seeder.debug() # 0.17670961925684514"
   ]
  },
  {
   "cell_type": "code",
   "execution_count": 39,
   "metadata": {
    "collapsed": true
   },
   "outputs": [],
   "source": [
    "model_name='./models/deep_sarsa.h5'\n",
    "image_name='./graphs/deep_sarsa.png'\n",
    "cache_dir='./cartpole'\n",
    "\n",
    "class DeepSARSAgent:\n",
    "    def __init__(self, env):\n",
    "        self.env = env\n",
    "        self.action_space = env.action_space.n\n",
    "        self.observation_space = env.observation_space.shape[0]\n",
    "        self.discount_factor = 0.999\n",
    "        self.model = self.build_model()\n",
    "        self.epsilon = 1.0\n",
    "        self.epsilon_min = 0.01 # 학습 시에는 최소 10%는 랜덤 액션을 취하여 탐험을 추천한다\n",
    "        self.epsilon_decay = 0.9999 # 1만 스텝에 70% 그리디 액션을 취한다\n",
    "        self.act0 = 0\n",
    "        self.act1 = 0\n",
    "\n",
    "    def build_model(self):\n",
    "        model = Sequential()\n",
    "        model.add(Dense(24, input_shape=(self.observation_space,), activation=\"relu\"))\n",
    "        model.add(Dense(24, activation=\"relu\"))\n",
    "        model.add(Dense(self.action_space, activation=\"linear\"))\n",
    "        model.compile(loss=\"mse\", optimizer=Adam(lr=0.001))\n",
    "        return model\n",
    "    \n",
    "    def stdout(self, x):\n",
    "#         sys.stdout.write(x)\n",
    "        pass\n",
    "\n",
    "    def get_action(self, state):\n",
    "        if np.random.rand() <= self.epsilon:\n",
    "            self.act0 += 1\n",
    "            return random.randrange(self.action_space)\n",
    "        else:\n",
    "            self.act1 += 1\n",
    "            _state = np.reshape(state, [1, self.observation_space])\n",
    "            q_values = self.model.predict(_state)\n",
    "            return np.argmax(q_values[0])\n",
    "        \n",
    "    def get_greedy_action(self, state):\n",
    "        _state = np.reshape(state, [1, self.observation_space])\n",
    "        q_values = self.model.predict(_state)\n",
    "        return np.argmax(q_values[0])\n",
    "    \n",
    "    def train_model(self, state, action, reward, next_state, next_action, done):\n",
    "        if self.epsilon > self.epsilon_min:\n",
    "            self.epsilon *= self.epsilon_decay\n",
    "            \n",
    "        _state = np.reshape(state, [1, self.observation_space])\n",
    "        target = self.model.predict(_state)[0]\n",
    "        \n",
    "        _next_state = np.reshape(next_state, [1, self.observation_space])\n",
    "        if done:\n",
    "            target[action] = reward * 0.1\n",
    "        else:\n",
    "            target[action] = (reward * 0.1 + self.discount_factor * self.model.predict(_next_state)[0][next_action])\n",
    "        _target = np.reshape(target, [1, self.action_space])\n",
    "        history = self.model.fit(_state, _target, epochs=1, verbose=0)\n",
    "        loss = history.history['loss'][0]\n",
    "        return loss\n",
    "    \n",
    "    def has_model(self, filename):\n",
    "        return os.path.exists(filename)\n",
    "\n",
    "    def save_weights(self, filename):\n",
    "        self.model.save_weights(filename)\n",
    "#         print(\"model saved '{}'\".format(filename))\n",
    "\n",
    "    def load_weights(self, filename):\n",
    "        self.model.load_weights(filename)\n",
    "#         print(\"model loaded '{}'\".format(filename))\n",
    "        \n",
    "    def reset_weights(self, filename):\n",
    "        if os.path.isfile(filename):\n",
    "            os.remove(filename)\n",
    "            \n",
    "    def clear_cache_dir(self, dirname):\n",
    "        if os.path.isdir(dirname):\n",
    "            import shutil\n",
    "            shutil.rmtree(dirname)"
   ]
  },
  {
   "cell_type": "code",
   "execution_count": 40,
   "metadata": {
    "collapsed": true
   },
   "outputs": [],
   "source": [
    "def test():\n",
    "    env = gym.make('CartPole-v1')\n",
    "    agent = DeepSARSAgent(env)\n",
    "    if agent.has_model(model_name):\n",
    "        agent.load_weights(model_name)\n",
    "    agent.clear_cache_dir(cache_dir)\n",
    "        \n",
    "    wenv = gym.wrappers.Monitor(env, 'cartpole')\n",
    "    t = 0\n",
    "    done = False\n",
    "    current_state = wenv.reset()\n",
    "    while not done:\n",
    "        wenv.render()\n",
    "        t = t+1\n",
    "        action = agent.get_greedy_action(current_state)\n",
    "        obs, reward, done, _ = wenv.step(action)\n",
    "        new_state = obs\n",
    "        current_state = new_state\n",
    "    return t\n",
    "        \n",
    "def learn(max_episodes, render, reset):\n",
    "    env = gym.make('CartPole-v1')\n",
    "    agent = DeepSARSAgent(env)\n",
    "    if reset and agent.has_model(model_name):\n",
    "        agent.reset_weights(model_name)\n",
    "    if not reset and agent.has_model(model_name):\n",
    "        agent.load_weights(model_name)\n",
    "    global_score = 0\n",
    "    episodes, scores, losses = [], [], []\n",
    "\n",
    "    step = 0\n",
    "    prev_score = 0\n",
    "    curr_score = 0\n",
    "    for e in range(max_episodes+1):\n",
    "        if render:\n",
    "            env.render()\n",
    "        done = False\n",
    "        score = 0\n",
    "        total_loss = 0\n",
    "        state = env.reset()\n",
    "\n",
    "        while not done:\n",
    "            action = agent.get_action(state)\n",
    "            next_state, reward, done, info = env.step(action)\n",
    "            next_action = agent.get_action(next_state)\n",
    "            loss = agent.train_model(state, action, reward, next_state, next_action, done)\n",
    "#             state = next_state\n",
    "            score += reward\n",
    "            total_loss += loss\n",
    "            step += 1\n",
    "            state = copy.deepcopy(next_state)\n",
    "            \n",
    "            tmp_score = score\n",
    "            if done:\n",
    "                global_score += score\n",
    "#                 episodes.append(e)\n",
    "#                 scores.append(score)\n",
    "#                 pylab.plot(episodes, scores, 'b')\n",
    "#                 pylab.savefig(image_name)\n",
    "                if e > 0 and e % 100 == 0:\n",
    "#                     agent.tmodel.set_weights(agent.model.get_weights())\n",
    "#                     print(\"score:%2.2f, total_loss:%2.2f\" % (score, total_loss))\n",
    "                    curr_score = tmp_score\n",
    "                    gavg = math.ceil(global_score / e)\n",
    "                    diff = curr_score - prev_score\n",
    "                    ratio = math.ceil((agent.act1/(agent.act0 + agent.act1)) * 100.0)\n",
    "                    print(\"[{}][{}%] g_avg:{}, \\t g_score:{}, diff:{}, episode:{}\".format(step, ratio, gavg, global_score, diff, e))\n",
    "                    agent.save_weights(model_name)\n",
    "                    prev_score = curr_score\n",
    "    env.close()"
   ]
  },
  {
   "cell_type": "code",
   "execution_count": 41,
   "metadata": {},
   "outputs": [
    {
     "name": "stdout",
     "output_type": "stream",
     "text": [
      "result of seed  6071\n",
      "[2384][11%] g_avg:24, \t g_score:2384.0, diff:14.0, episode:100\n",
      "[7475][30%] g_avg:38, \t g_score:7475.0, diff:76.0, episode:200\n",
      "[24428][63%] g_avg:82, \t g_score:24428.0, diff:-76.0, episode:300\n",
      "[50105][81%] g_avg:126, \t g_score:50105.0, diff:156.0, episode:400\n",
      "[66646][85%] g_avg:134, \t g_score:66646.0, diff:20.0, episode:500\n"
     ]
    },
    {
     "data": {
      "text/plain": [
       "249"
      ]
     },
     "execution_count": 41,
     "metadata": {},
     "output_type": "execute_result"
    }
   ],
   "source": [
    "seeder = RandomSeeder()\n",
    "seeder.reset()\n",
    "randint = random.randint(1, 99999) \n",
    "randint = 6071\n",
    "print('result of seed ', randint)\n",
    "\n",
    "seeder.set_seed(randint)\n",
    "learn(500, False, True)\n",
    "test()"
   ]
  },
  {
   "cell_type": "code",
   "execution_count": 13,
   "metadata": {},
   "outputs": [
    {
     "name": "stdout",
     "output_type": "stream",
     "text": [
      "model loaded './models/deep_sarsa.h5'\n"
     ]
    },
    {
     "data": {
      "text/plain": [
       "9"
      ]
     },
     "execution_count": 13,
     "metadata": {},
     "output_type": "execute_result"
    }
   ],
   "source": [
    "test()"
   ]
  },
  {
   "cell_type": "code",
   "execution_count": 44,
   "metadata": {},
   "outputs": [
    {
     "name": "stdout",
     "output_type": "stream",
     "text": [
      "result of seed  6071\n",
      "[2713][13%] g_avg:28, \t g_score:2713.0, diff:23.0, episode:100\n",
      "[8332][33%] g_avg:42, \t g_score:8332.0, diff:173.0, episode:200\n",
      "[28434][67%] g_avg:95, \t g_score:28434.0, diff:149.0, episode:300\n",
      "[69807][86%] g_avg:175, \t g_score:69807.0, diff:155.0, episode:400\n",
      "[105652][91%] g_avg:212, \t g_score:105652.0, diff:-334.0, episode:500\n"
     ]
    },
    {
     "data": {
      "text/plain": [
       "500"
      ]
     },
     "execution_count": 44,
     "metadata": {},
     "output_type": "execute_result"
    }
   ],
   "source": [
    "seeder = RandomSeeder()\n",
    "seeder.reset()\n",
    "randint = random.randint(1, 99999) \n",
    "randint = 6071\n",
    "print('result of seed ', randint)\n",
    "\n",
    "seeder.set_seed(randint)\n",
    "learn(500, False, True)\n",
    "test()"
   ]
  },
  {
   "cell_type": "code",
   "execution_count": 45,
   "metadata": {},
   "outputs": [
    {
     "name": "stdout",
     "output_type": "stream",
     "text": [
      "0 0.9999\n",
      "10000 0.3678242603283259\n"
     ]
    }
   ],
   "source": [
    "# 9가 5개 설정은, 현재 설정은 1만에  90%, 10만 스텝에 약 60% 그리디 액션\n",
    "epsilon=1.0\n",
    "epsilon_decay=0.9999\n",
    "for x in range(10000+1):\n",
    "    epsilon *= epsilon_decay\n",
    "    if x % 10000 == 0:\n",
    "        print(x, epsilon)"
   ]
  },
  {
   "cell_type": "code",
   "execution_count": 8,
   "metadata": {},
   "outputs": [
    {
     "name": "stdout",
     "output_type": "stream",
     "text": [
      "7\n"
     ]
    }
   ],
   "source": [
    "print(random.randint(1, 10))"
   ]
  }
 ],
 "metadata": {
  "kernelspec": {
   "display_name": "Python [py36]",
   "language": "python",
   "name": "Python [py36]"
  },
  "language_info": {
   "codemirror_mode": {
    "name": "ipython",
    "version": 3
   },
   "file_extension": ".py",
   "mimetype": "text/x-python",
   "name": "python",
   "nbconvert_exporter": "python",
   "pygments_lexer": "ipython3",
   "version": "3.6.2"
  }
 },
 "nbformat": 4,
 "nbformat_minor": 2
}
