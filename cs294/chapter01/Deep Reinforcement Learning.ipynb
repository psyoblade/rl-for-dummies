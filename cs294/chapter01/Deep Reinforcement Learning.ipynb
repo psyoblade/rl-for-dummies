{
 "cells": [
  {
   "cell_type": "markdown",
   "metadata": {},
   "source": [
    "# Deep Reinforcement Learning"
   ]
  },
  {
   "cell_type": "markdown",
   "metadata": {},
   "source": []
  },
  {
   "cell_type": "markdown",
   "metadata": {},
   "source": [
    "### Pre-requirements\n",
    "#### 아래의 선행강좌 수강은 필수 입니다\n",
    "> 1. [CS189](https://people.eecs.berkeley.edu/~jrs/189/), \n",
    "[CS281A 2009](https://people.eecs.berkeley.edu/~bartlett/courses/2009fall-cs281a/),\n",
    "[CS281A 2014](https://people.eecs.berkeley.edu/~jordan/courses/281A-spring14/)\n",
    "2. [Tensorflow Guide low level intro](https://www.tensorflow.org/guide/low_level_intro) : tensorflow & neural networks\n",
    "3. [Bekery Reddit Deep RL](https://www.reddit.com/r/berkeleydeeprlcourse)\n",
    "\n",
    "#### What we'll cover\n",
    "![RL](images/cover.png)\n",
    "![RL](images/homework.png)"
   ]
  },
  {
   "cell_type": "markdown",
   "metadata": {},
   "source": [
    "#### 개요\n",
    "> 1. formalism for behavior - mathmatical framework for decision making between agent and environment\n",
    "\n",
    "#### What is deep learning, and why we should we care?\n",
    "> 고전적인 기계학습이나 강화학습 모두 수작업 특질 추출부터, 설계 및 튜닝까지 비용이 컸지만 딥러닝 기법이 end-to-end 학습이 가능해졌다"
   ]
  },
  {
   "cell_type": "markdown",
   "metadata": {},
   "source": [
    "#### Q&A\n",
    "#### 1. inverse reinforcement learning 이란?\n",
    "> 예제를 통해서 보상함수를 학습하는 것을 말합니다\n",
    "\n",
    "#### 2. transfer or meta learning 이란?\n",
    "> domain 간에 knowledge 를 전달할 수 있도록 하는 것을 말합니다. 사람이 선생님으로부터 배우는 것과 유사합니다\n",
    "\n",
    "#### 3. learning from demonstration 이란?\n",
    "> observed behavior or inferring rewards from observed behavior\n",
    "\n",
    "#### 4. Intelligent ?\n",
    "> flexibility + adaptation"
   ]
  },
  {
   "cell_type": "code",
   "execution_count": null,
   "metadata": {
    "collapsed": true
   },
   "outputs": [],
   "source": []
  }
 ],
 "metadata": {
  "kernelspec": {
   "display_name": "Python [py36]",
   "language": "python",
   "name": "Python [py36]"
  },
  "language_info": {
   "codemirror_mode": {
    "name": "ipython",
    "version": 3
   },
   "file_extension": ".py",
   "mimetype": "text/x-python",
   "name": "python",
   "nbconvert_exporter": "python",
   "pygments_lexer": "ipython3",
   "version": "3.6.2"
  }
 },
 "nbformat": 4,
 "nbformat_minor": 2
}
